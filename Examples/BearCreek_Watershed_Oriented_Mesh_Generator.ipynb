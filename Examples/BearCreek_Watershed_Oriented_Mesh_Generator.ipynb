{
 "cells": [
  {
   "cell_type": "markdown",
   "metadata": {
    "id": "lMHQs-tF_cHi"
   },
   "source": [
    "# Install packages"
   ]
  },
  {
   "cell_type": "markdown",
   "metadata": {},
   "source": [
    "##!pip install geopandas\n",
    "##! pip install earthengine-api --upgrade\n",
    "##!pip install rasterio\n",
    "##!pip install gdal\n",
    "#!pip install osgeo\n",
    "##!conda install -c conda-forge gdal\n",
    "##!pip install pysheds\n",
    "!pip install cartopy\n",
    "!pip install deap"
   ]
  },
  {
   "cell_type": "code",
   "execution_count": 1,
   "metadata": {},
   "outputs": [],
   "source": [
    "import numpy\n",
    "import rasterio\n",
    "import cartopy\n",
    "import sys\n",
    "import pylab as pl\n",
    "from osgeo import gdal, osr\n",
    "import numpy as np\n",
    "##import gdal\n",
    "##!pip show gdal"
   ]
  },
  {
   "cell_type": "code",
   "execution_count": 2,
   "metadata": {
    "ExecuteTime": {
     "end_time": "2023-05-16T15:34:25.379621Z",
     "start_time": "2023-05-16T15:34:24.009628Z"
    },
    "scrolled": false
   },
   "outputs": [],
   "source": [
    "from wmf import wmf \n",
    "import pylab as pl \n",
    "from osgeo import gdal\n",
    "from wmf import ghost_topo as go \n",
    "import numpy as np\n"
   ]
  },
  {
   "cell_type": "markdown",
   "metadata": {
    "id": "IKJ9dzcGAlxJ"
   },
   "source": [
    "# Set up a watershed "
   ]
  },
  {
   "cell_type": "markdown",
   "metadata": {
    "id": "mcAAuhNSB9mQ"
   },
   "source": [
    "## Read and process DEM "
   ]
  },
  {
   "cell_type": "markdown",
   "metadata": {},
   "source": [
    "def convert_map_to_tif(input_map, output_tif):\n",
    "    # Open the PCRaster .map file\n",
    "    ds = gdal.Open(input_map)\n",
    "    if ds is None:\n",
    "        raise Exception(\"Could not open input file\")\n",
    "\n",
    "    # Create the GeoTIFF driver\n",
    "    driver = gdal.GetDriverByName('GTiff')\n",
    "\n",
    "    # Create the GeoTIFF output file\n",
    "    ds_tif = driver.CreateCopy(output_tif, ds)\n",
    "\n",
    "    # Close the datasets\n",
    "    ds = None\n",
    "    ds_tif = None\n",
    "\n",
    "    print(\"Conversion complete.\")\n",
    "\n",
    "if __name__ == \"__main__\":\n",
    "    input_map_file = \"Dir30.map\"\n",
    "    output_tif_file = \"OT30.tif\"\n",
    "    convert_map_to_tif(input_map_file, output_tif_file)\n"
   ]
  },
  {
   "cell_type": "markdown",
   "metadata": {
    "ExecuteTime": {
     "end_time": "2023-05-16T15:34:28.596764Z",
     "start_time": "2023-05-16T15:34:28.265059Z"
    },
    "colab": {
     "base_uri": "https://localhost:8080/",
     "height": 304
    },
    "executionInfo": {
     "elapsed": 388,
     "status": "error",
     "timestamp": 1684247125015,
     "user": {
      "displayName": "Nicolás Velásquez",
      "userId": "15649486147728645342"
     },
     "user_tz": 300
    },
    "id": "qiHo4qP7AWmL",
    "outputId": "6ff1bb5b-f07b-4c68-b3f8-efc23b3a854d"
   },
   "source": [
    "from wmf import wmf\n",
    "from osgeo import gdal\n",
    "DEM, epsg = wmf.read_map_raster('dem2.tif', isDEMorDIR=True, dxp=90, noDataP=-9999)\n",
    "DIR, epsg = wmf.read_map_raster('dir.tif', isDEMorDIR=True, dxp=90, noDataP=-9999, isDIR=False)"
   ]
  },
  {
   "cell_type": "code",
   "execution_count": 3,
   "metadata": {},
   "outputs": [
    {
     "name": "stdout",
     "output_type": "stream",
     "text": [
      "Value modifications completed. Modified file saved as 'dir1.tif'.\n"
     ]
    }
   ],
   "source": [
    "from wmf import wmf\n",
    "from osgeo import gdal\n",
    "DEM, epsg = wmf.read_map_raster('dem1.tif', isDEMorDIR=True, dxp=30, noDataP=-9999)\n",
    "DIR, epsg = wmf.read_map_raster('dir.tif', isDEMorDIR=True, dxp=30, noDataP=-9999, isDIR=False)\n",
    "# Define the value modification dictionary\n",
    "value_mapping = {32: 7, 64: 8, 128: 9, 16: 4, 1: 6, 8: 1, 4: 2, 2: 3}\n",
    "\n",
    "# Apply the value modifications using NumPy\n",
    "modified_DIR = np.copy(DIR)\n",
    "for orig_value, new_value in value_mapping.items():\n",
    "    modified_DIR[DIR == orig_value] = new_value\n",
    "\n",
    "# Set null values to 0\n",
    "modified_DIR[modified_DIR == -9999] = 0\n",
    "\n",
    "# Open the original dataset to get geotransformation and spatial reference\n",
    "original_dataset = gdal.Open('dir.tif')\n",
    "geotransform = original_dataset.GetGeoTransform()\n",
    "spatial_ref = original_dataset.GetProjection()\n",
    "\n",
    "# Write the modified data (including null values) back to the raster file\n",
    "output_file = 'dir1.tif'\n",
    "driver = gdal.GetDriverByName('GTiff')\n",
    "output_dataset = driver.Create(output_file, DIR.shape[0], DIR.shape[1], 1, gdal.GDT_Byte)  # Transposed shape\n",
    "output_band = output_dataset.GetRasterBand(1)\n",
    "output_band.WriteArray(modified_DIR.T)  # Transpose the modified data array\n",
    "output_band.SetNoDataValue(0)  # Set null value to 0\n",
    "\n",
    "# Set the same spatial reference as the original dataset\n",
    "output_dataset.SetProjection(spatial_ref)\n",
    "\n",
    "# Set the same geotransformation as the original dataset\n",
    "output_dataset.SetGeoTransform(geotransform)\n",
    "\n",
    "output_band.FlushCache()\n",
    "output_band = None\n",
    "output_dataset = None\n",
    "original_dataset = None\n",
    "\n",
    "print(\"Value modifications completed. Modified file saved as 'dir1.tif'.\")"
   ]
  },
  {
   "cell_type": "markdown",
   "metadata": {},
   "source": [
    "DIR, epsg = wmf.read_map_raster('dir30c.tif', isDEMorDIR=True, dxp=90, noDataP=-9999, isDIR=False)"
   ]
  },
  {
   "cell_type": "code",
   "execution_count": 4,
   "metadata": {},
   "outputs": [],
   "source": [
    "from wmf import wmf\n",
    "from osgeo import gdal\n",
    "DEM, epsg = wmf.read_map_raster('dem1.tif', isDEMorDIR=True, dxp=30, noDataP=-9999)\n",
    "DIR, epsg = wmf.read_map_raster('dir1.tif', isDEMorDIR=True, dxp=30, noDataP=-9999, isDIR=False)"
   ]
  },
  {
   "cell_type": "markdown",
   "metadata": {
    "id": "6W4UBYpLCB5_"
   },
   "source": [
    "## Extract watershed"
   ]
  },
  {
   "cell_type": "code",
   "execution_count": 5,
   "metadata": {
    "ExecuteTime": {
     "end_time": "2023-05-16T15:34:29.125615Z",
     "start_time": "2023-05-16T15:34:29.040644Z"
    },
    "colab": {
     "base_uri": "https://localhost:8080/"
    },
    "executionInfo": {
     "elapsed": 115,
     "status": "ok",
     "timestamp": 1629919310394,
     "user": {
      "displayName": "Nicolás Velásquez",
      "photoUrl": "https://lh3.googleusercontent.com/a-/AOh14Gj_p27Ww8CzJCwMccm7KvzOMrLqhxfXelzHuWR1GA=s64",
      "userId": "15649486147728645342"
     },
     "user_tz": 300
    },
    "id": "cmpVxRSNBlOI",
    "outputId": "7290e2d8-9046-4ed0-e002-0b7460863200",
    "scrolled": true
   },
   "outputs": [
    {
     "name": "stdout",
     "output_type": "stream",
     "text": [
      "1\n"
     ]
    }
   ],
   "source": [
    "st = wmf.Stream(609271.447, 4823937.04, DEM, DIR)\n",
    "cu = wmf.SimuBasin(611999.447, 4811605.04, DEM, DIR, stream=st, threshold=50)\n",
    "Cat, prop, epsg = wmf.read_map_raster('focus_direct.TIF')"
   ]
  },
  {
   "cell_type": "code",
   "execution_count": 6,
   "metadata": {},
   "outputs": [],
   "source": [
    "CatBasin = cu.Transform_Map2Basin(Cat, prop)"
   ]
  },
  {
   "cell_type": "code",
   "execution_count": 7,
   "metadata": {},
   "outputs": [
    {
     "data": {
      "image/png": "[encoded data removed]",
      "text/plain": [
       "<Figure size 1000x800 with 1 Axes>"
      ]
     },
     "metadata": {},
     "output_type": "display_data"
    },
    {
     "data": {
      "text/plain": [
       "([602038.4375, 612718.4375, 4810914.0, 4824264.0], <Axes: >)"
      ]
     },
     "execution_count": 7,
     "metadata": {},
     "output_type": "execute_result"
    }
   ],
   "source": [
    "cu.Plot_basinClean(CatBasin)"
   ]
  },
  {
   "cell_type": "code",
   "execution_count": 8,
   "metadata": {},
   "outputs": [],
   "source": [
    "cu.Save_Basin2Map('BasinEJEM.shp',\n",
    "    dx=30,\n",
    "    Param={},\n",
    "    DriverFormat='ESRI Shapefile',\n",
    "    EPSG=26915,\n",
    "    GeoParam=False,\n",
    ")\n",
    "cu.Save_Net2Map('NetEJEM.shp',\n",
    "    dx=30,\n",
    "    threshold=50,\n",
    "    qmed=None,\n",
    "    Dict=None,\n",
    "    DriverFormat='ESRI Shapefile',\n",
    "    EPSG=26915,\n",
    "    Numlink_id=True,\n",
    "    formato='%.2f',\n",
    ")"
   ]
  },
  {
   "cell_type": "markdown",
   "metadata": {
    "id": "Uzo34TNJCIme"
   },
   "source": [
    "## Get ghost class and its elements"
   ]
  },
  {
   "cell_type": "code",
   "execution_count": 25,
   "metadata": {
    "ExecuteTime": {
     "end_time": "2023-05-16T15:34:34.663198Z",
     "start_time": "2023-05-16T15:34:34.384127Z"
    }
   },
   "outputs": [],
   "source": [
    "gp = go.ghost_preprocess(cu, path_dem='dem1.tif', \n",
    "   seg_threshold=45,\n",
    "  seg_point_distance=4,)"
   ]
  },
  {
   "cell_type": "code",
   "execution_count": 26,
   "metadata": {
    "ExecuteTime": {
     "end_time": "2023-05-16T15:35:34.494385Z",
     "start_time": "2023-05-16T15:35:34.297815Z"
    }
   },
   "outputs": [
    {
     "name": "stdout",
     "output_type": "stream",
     "text": [
      "Defining river segments...\n"
     ]
    },
    {
     "data": {
      "text/html": [
       "\n",
       "        <progress\n",
       "            value='880'\n",
       "            max='881',\n",
       "            style='width: 100%'\n",
       "        >\n",
       "            880\n",
       "        </progress>\n",
       "    "
      ],
      "text/plain": [
       "<IPython.core.display.HTML object>"
      ]
     },
     "metadata": {},
     "output_type": "display_data"
    },
    {
     "name": "stdout",
     "output_type": "stream",
     "text": [
      "Done\n"
     ]
    }
   ],
   "source": [
    "corrected = gp.get_segments_topology(epsilon=0.1)"
   ]
  },
  {
   "cell_type": "code",
   "execution_count": 27,
   "metadata": {
    "ExecuteTime": {
     "end_time": "2023-05-16T15:36:35.840495Z",
     "start_time": "2023-05-16T15:36:35.799615Z"
    }
   },
   "outputs": [],
   "source": [
    "gp.get_mesh_river_points(clean_close_points=True,\n",
    "                         min_river2river_distance=2)"
   ]
  },
  {
   "cell_type": "code",
   "execution_count": 28,
   "metadata": {
    "ExecuteTime": {
     "end_time": "2023-05-16T15:37:18.159584Z",
     "start_time": "2023-05-16T15:37:17.992723Z"
    }
   },
   "outputs": [
    {
     "name": "stdout",
     "output_type": "stream",
     "text": [
      "Extracting points for the mesh without focus areas...\n",
      "Done\n",
      "Creating border elements...\n",
      "Done\n",
      "Cleaning mesh points with the points of the river network...\n",
      "Using focus setup, will use distance based on the config if avaiable\n",
      "Done\n"
     ]
    }
   ],
   "source": [
    "gp.get_mesh_grid_points(mesh_spaces=4,\n",
    "                        border_iter=2,\n",
    "                        clean_with_river=True,\n",
    "                        min_dem2river_distance=2)"
   ]
  },
  {
   "cell_type": "markdown",
   "metadata": {},
   "source": [
    "import pandas as pd"
   ]
  },
  {
   "cell_type": "markdown",
   "metadata": {},
   "source": [
    "pd.DataFrame(gp.mesh_points_river.T, columns = ['x','y']).to_csv('mesh_coordinates_river.csv')\n",
    "pd.DataFrame(gp.mesh_points_dem.T, columns = ['x','y']).to_csv('mesh_coordinates_grid.csv')\n",
    "pd.DataFrame(gp.mesh_points_boundary[0].T, columns = ['x','y'])kkz.to_csv('mesh_coordinates_boundary.csv')\n",
    "pd.DataFrame(gp.mesh_points_boundary[1].T, columns = ['x','y']).to_csv('mesh_coordinates_boundary2.csv')"
   ]
  },
  {
   "cell_type": "code",
   "execution_count": 29,
   "metadata": {
    "ExecuteTime": {
     "end_time": "2023-05-16T15:37:54.007199Z",
     "start_time": "2023-05-16T15:37:37.064336Z"
    }
   },
   "outputs": [
    {
     "data": {
      "text/html": [
       "\n",
       "        <progress\n",
       "            value='16139'\n",
       "            max='16140',\n",
       "            style='width: 100%'\n",
       "        >\n",
       "            16139\n",
       "        </progress>\n",
       "    "
      ],
      "text/plain": [
       "<IPython.core.display.HTML object>"
      ]
     },
     "metadata": {},
     "output_type": "display_data"
    },
    {
     "name": "stdout",
     "output_type": "stream",
     "text": [
      "Renumbering polygons ids ...\n"
     ]
    },
    {
     "data": {
      "text/html": [
       "\n",
       "        <progress\n",
       "            value='14264'\n",
       "            max='14264',\n",
       "            style='width: 100%'\n",
       "        >\n",
       "            14264\n",
       "        </progress>\n",
       "    "
      ],
      "text/plain": [
       "<IPython.core.display.HTML object>"
      ]
     },
     "metadata": {},
     "output_type": "display_data"
    },
    {
     "name": "stdout",
     "output_type": "stream",
     "text": [
      "Done renumbering\n"
     ]
    }
   ],
   "source": [
    "gp.get_voronoi_polygons()\n",
    "gp.define_polygons_topology()"
   ]
  },
  {
   "cell_type": "code",
   "execution_count": 30,
   "metadata": {
    "ExecuteTime": {
     "end_time": "2023-05-16T15:41:52.084963Z",
     "start_time": "2023-05-16T15:41:46.005991Z"
    }
   },
   "outputs": [
    {
     "name": "stdout",
     "output_type": "stream",
     "text": [
      "Writing mesh file...\n"
     ]
    },
    {
     "data": {
      "text/html": [
       "\n",
       "        <progress\n",
       "            value='14263'\n",
       "            max='14264',\n",
       "            style='width: 100%'\n",
       "        >\n",
       "            14263\n",
       "        </progress>\n",
       "    "
      ],
      "text/plain": [
       "<IPython.core.display.HTML object>"
      ]
     },
     "metadata": {},
     "output_type": "display_data"
    },
    {
     "name": "stdout",
     "output_type": "stream",
     "text": [
      "Mesh file written\n",
      "writing shapefile...\n",
      "Done\n",
      "Converting shp to ee FeatureCollection...\n"
     ]
    },
    {
     "data": {
      "text/html": [
       "\n",
       "        <progress\n",
       "            value='0'\n",
       "            max='14264',\n",
       "            style='width: 100%'\n",
       "        >\n",
       "            0\n",
       "        </progress>\n",
       "    "
      ],
      "text/plain": [
       "<IPython.core.display.HTML object>"
      ]
     },
     "metadata": {},
     "output_type": "display_data"
    },
    {
     "name": "stdout",
     "output_type": "stream",
     "text": [
      "Warning: self.polygon_ee not defined it seems that you dont have ee set up.\n"
     ]
    }
   ],
   "source": [
    "gp.write_mesh_file('mesh_4.mesh', shp_path='mesh_4.shp')"
   ]
  },
  {
   "cell_type": "code",
   "execution_count": 32,
   "metadata": {
    "ExecuteTime": {
     "end_time": "2023-05-16T15:44:34.783358Z",
     "start_time": "2023-05-16T15:44:34.184008Z"
    }
   },
   "outputs": [],
   "source": [
    "gp.write_river_file('river_4.riv',shp_path='river_4.shp')"
   ]
  },
  {
   "cell_type": "markdown",
   "metadata": {},
   "source": [
    "#T"
   ]
  },
  {
   "cell_type": "markdown",
   "metadata": {
    "ExecuteTime": {
     "end_time": "2023-05-16T15:48:20.074543Z",
     "start_time": "2023-05-16T15:48:20.047862Z"
    }
   },
   "source": [
    "gp.write_attribute_file()"
   ]
  },
  {
   "cell_type": "code",
   "execution_count": 26,
   "metadata": {
    "colab": {
     "base_uri": "https://localhost:8080/",
     "height": 374
    },
    "executionInfo": {
     "elapsed": 10659,
     "status": "error",
     "timestamp": 1629753971021,
     "user": {
      "displayName": "Sam Landsteiner",
      "photoUrl": "",
      "userId": "06209305298175359431"
     },
     "user_tz": 300
    },
    "id": "OrE8K9bNBpd6",
    "outputId": "285cbcbe-e971-4feb-df06-575ed52db69b"
   },
   "outputs": [
    {
     "name": "stdout",
     "output_type": "stream",
     "text": [
      "Defining river segments...\n"
     ]
    },
    {
     "data": {
      "text/html": [
       "\n",
       "        <progress\n",
       "            value='880'\n",
       "            max='881',\n",
       "            style='width: 100%'\n",
       "        >\n",
       "            880\n",
       "        </progress>\n",
       "    "
      ],
      "text/plain": [
       "<IPython.core.display.HTML object>"
      ]
     },
     "metadata": {},
     "output_type": "display_data"
    },
    {
     "name": "stderr",
     "output_type": "stream",
     "text": [
      "/home/mike94/def2/lib/python3.8/site-packages/wmf/ghost_topo.py:1063: FutureWarning: Unlike other reduction functions (e.g. `skew`, `kurtosis`), the default behavior of `mode` typically preserves the axis it acts along. In SciPy 1.11.0, this behavior will change: the default value of `keepdims` will become False, the `axis` over which the statistic is taken will be eliminated, and the value None will no longer be accepted. Set `keepdims` to True or False to avoid this warning.\n",
      "  category = int(stats.mode(self.focus_map[pos]).mode[0])\n"
     ]
    },
    {
     "name": "stdout",
     "output_type": "stream",
     "text": [
      "Done\n",
      "Extracting points for the mesh by focus areas...\n",
      "Done\n",
      "Creating border elements...\n",
      "Done\n",
      "Cleaning mesh points with the points of the river network...\n",
      "Using focus setup, will use distance based on the config if avaiable\n",
      "Done\n"
     ]
    },
    {
     "data": {
      "text/html": [
       "\n",
       "        <progress\n",
       "            value='7227'\n",
       "            max='7228',\n",
       "            style='width: 100%'\n",
       "        >\n",
       "            7227\n",
       "        </progress>\n",
       "    "
      ],
      "text/plain": [
       "<IPython.core.display.HTML object>"
      ]
     },
     "metadata": {},
     "output_type": "display_data"
    },
    {
     "name": "stdout",
     "output_type": "stream",
     "text": [
      "Renumbering polygons ids ...\n"
     ]
    },
    {
     "data": {
      "text/html": [
       "\n",
       "        <progress\n",
       "            value='5353'\n",
       "            max='5353',\n",
       "            style='width: 100%'\n",
       "        >\n",
       "            5353\n",
       "        </progress>\n",
       "    "
      ],
      "text/plain": [
       "<IPython.core.display.HTML object>"
      ]
     },
     "metadata": {},
     "output_type": "display_data"
    },
    {
     "name": "stdout",
     "output_type": "stream",
     "text": [
      "Done renumbering\n"
     ]
    }
   ],
   "source": [
    "# focus_dic = {'1':{'seg_threshold':45,\n",
    "#                  'seg_point_distance':35,\n",
    "#                  'mesh_spaces': 7,\n",
    "#                  'min_order' : 1}, \n",
    "#               '2':{'seg_threshold':18,\n",
    "#                    'seg_point_distance':2,\n",
    "#                    'mesh_spaces': 5,\n",
    "#                    'min_dem2river_distance' : 8,\n",
    "#                    'min_order' : 1},\n",
    "#                '3':{'seg_threshold':20,\n",
    "#                    'seg_point_distance':5,\n",
    "#                    'mesh_spaces': 6,\n",
    "#                    'min_dem2river_distance' : 15,\n",
    "#                    'min_order' : 1}\n",
    "# }\n",
    "\n",
    "\n",
    "focus_dic = {'1':{'seg_threshold':90,\n",
    "                 'seg_point_distance':20,\n",
    "                 'mesh_spaces': 7,\n",
    "                 'min_order' : 1}, \n",
    "              '2':{'seg_threshold':70,\n",
    "                   'seg_point_distance':5,\n",
    "                   'mesh_spaces': 5,\n",
    "                   'min_dem2river_distance' : 10,\n",
    "                   'min_order' : 1},\n",
    "               '3':{'seg_threshold':80,\n",
    "                   'seg_point_distance':10,\n",
    "                   'mesh_spaces': 6,\n",
    "                   'min_dem2river_distance' : 15,\n",
    "                   'min_order' : 1}\n",
    "}\n",
    "\n",
    "\n",
    "gp = go.ghost_preprocess(cu, path_dem='dem1.tif', \n",
    "    #seg_threshold=800,\n",
    "  #seg_point_distance=75,\n",
    "  focus_map = 'focus_direct.TIF',\n",
    "  focus_dict = focus_dic\n",
    "  )\n",
    "\n",
    "corrected = gp.get_segments_topology(epsilon=0.1)\n",
    "gp.select_segments_using_focus(1)\n",
    "gp.get_mesh_river_points(clean_close_points=True,\n",
    "                         min_river2river_distance=50)\n",
    "gp.get_mesh_grid_points(mesh_spaces=12,\n",
    "                        border_iter=2,\n",
    "                        clean_with_river=True,\n",
    "                        min_dem2river_distance=50)\n",
    "\n",
    "gp.get_voronoi_polygons()\n",
    "gp.define_polygons_topology()"
   ]
  },
  {
   "cell_type": "code",
   "execution_count": 27,
   "metadata": {
    "id": "2juqz_Zm94KF"
   },
   "outputs": [
    {
     "name": "stdout",
     "output_type": "stream",
     "text": [
      "Writing mesh file...\n"
     ]
    },
    {
     "data": {
      "text/html": [
       "\n",
       "        <progress\n",
       "            value='5352'\n",
       "            max='5353',\n",
       "            style='width: 100%'\n",
       "        >\n",
       "            5352\n",
       "        </progress>\n",
       "    "
      ],
      "text/plain": [
       "<IPython.core.display.HTML object>"
      ]
     },
     "metadata": {},
     "output_type": "display_data"
    },
    {
     "name": "stdout",
     "output_type": "stream",
     "text": [
      "Mesh file written\n",
      "writing shapefile...\n",
      "Done\n",
      "Converting shp to ee FeatureCollection...\n"
     ]
    },
    {
     "data": {
      "text/html": [
       "\n",
       "        <progress\n",
       "            value='0'\n",
       "            max='5353',\n",
       "            style='width: 100%'\n",
       "        >\n",
       "            0\n",
       "        </progress>\n",
       "    "
      ],
      "text/plain": [
       "<IPython.core.display.HTML object>"
      ]
     },
     "metadata": {},
     "output_type": "display_data"
    },
    {
     "name": "stdout",
     "output_type": "stream",
     "text": [
      "Warning: self.polygon_ee not defined it seems that you dont have ee set up.\n"
     ]
    }
   ],
   "source": [
    "gp.write_mesh_file('meshFocus.mesh','meshFocus.shp')\n",
    "gp.write_river_file(path = 'examplFocus.riv', \n",
    "                    shp_path = 'example_rivFocus.shp')"
   ]
  },
  {
   "cell_type": "markdown",
   "metadata": {
    "id": "rnc1r6_3dppk"
   },
   "source": [
    "# Use earth explorer functions to set up the soil properties"
   ]
  },
  {
   "cell_type": "markdown",
   "metadata": {
    "colab": {
     "base_uri": "https://localhost:8080/"
    },
    "executionInfo": {
     "elapsed": 453796,
     "status": "ok",
     "timestamp": 1629391555115,
     "user": {
      "displayName": "Sam Landsteiner",
      "photoUrl": "",
      "userId": "06209305298175359431"
     },
     "user_tz": 300
    },
    "id": "HiJQwYdt9_VG",
    "outputId": "dad557e6-d49e-47e8-f5ca-6645f65bd83d"
   },
   "source": [
    "#Gets the soil data\n",
    "soils = go.get_soils_data()\n",
    "gp.get_physical_prop(soils, sliced=True, xdivisions=5, ydivisions=5, prop_name='soils')\n",
    "#Fill the geometries with null values.\n",
    "gp.polygons_shp['soils'].fillna(gp.polygons_shp['soils'].value_counts().idxmax(), \n",
    "                                inplace = True)\n",
    "#Make the variable an integer\n",
    "gp.polygons_shp['soils'] = gp.polygons_shp['soils'].astype(int)"
   ]
  },
  {
   "cell_type": "markdown",
   "metadata": {
    "colab": {
     "base_uri": "https://localhost:8080/"
    },
    "executionInfo": {
     "elapsed": 397761,
     "status": "ok",
     "timestamp": 1629391952873,
     "user": {
      "displayName": "Sam Landsteiner",
      "photoUrl": "",
      "userId": "06209305298175359431"
     },
     "user_tz": 300
    },
    "id": "dPErzYCp_9fL",
    "outputId": "9a22fe40-8c2a-48cd-eec8-c62ff900296c"
   },
   "source": [
    "#Gets the land use data\n",
    "land_use = go.get_land_use_data()\n",
    "gp.get_physical_prop(land_use, sliced=True, xdivisions=5, ydivisions=5, prop_name='land', band = 'cropland')\n",
    "#Make the vartiable and integer\n",
    "gp.polygons_shp['land'] = gp.polygons_shp['land'].astype(int)\n"
   ]
  },
  {
   "cell_type": "markdown",
   "metadata": {
    "id": "OgGlyZHrPyqK"
   },
   "source": [
    "gp.write_attribute_file('/content/drive/MyDrive/GHOST/Outputs/example.att', \n",
    "                        'soils', \n",
    "                        'land')"
   ]
  },
  {
   "cell_type": "markdown",
   "metadata": {},
   "source": [
    "# Attribute file "
   ]
  },
  {
   "cell_type": "code",
   "execution_count": 33,
   "metadata": {},
   "outputs": [],
   "source": [
    "# 100 - 100 m\n",
    "import pandas as pd\n",
    "\n",
    "# Read data from CSV file\n",
    "# df = pd.read_csv('BearCreek-att.csv')\n",
    "df = pd.read_csv('BearCreek-att.csv')\n",
    "# Iterate through rows and add zeros to BCns\n",
    "for index, row in df.iterrows():\n",
    "    nfaces = int(row['nfaces'])  # Cast to integer\n",
    "    zeros_to_add = nfaces - 1  # Subtract 1 to account for the existing zero in the BCns column\n",
    "    zeros = [0] * zeros_to_add\n",
    "    new_bcns = [0] + zeros  # Add the initial zero and then the additional zeros\n",
    "    df.at[index, 'BCns'] = ','.join(map(str, new_bcns))\n",
    "\n",
    "# Write the modified data back to a CSV file\n",
    "df.to_csv('BearCreek-Mesh_1.csv', index=False)\n"
   ]
  },
  {
   "cell_type": "markdown",
   "metadata": {
    "id": "hBWiNJTNiQQ3"
   },
   "source": [
    "# Append attribute file to account for forcing/tiling"
   ]
  },
  {
   "cell_type": "markdown",
   "metadata": {
    "id": "ul5pPFLQuf1L"
   },
   "source": [
    "## Read in meteo pixels as gdf"
   ]
  },
  {
   "cell_type": "markdown",
   "metadata": {},
   "source": [
    "!pip install geopandas"
   ]
  },
  {
   "cell_type": "code",
   "execution_count": null,
   "metadata": {
    "id": "SZjRlHUciZ9V"
   },
   "outputs": [],
   "source": [
    "import pandas as pd\n",
    "import geopandas as geop  # Import geopandas as gpd\n",
    "\n",
    "# read in pixels.csv from meteo gen file\n",
    "df = pd.read_csv('pixels.csv')\n",
    "\n",
    "# convert df to geodataframe point class\n",
    "pixel_gdf = geop.GeoDataFrame(\n",
    "    df, geometry=geop.points_from_xy(df.lon, df.lat), crs=4326)\n",
    "\n",
    "# convert gdf crs to match project (lat to utm)\n",
    "pixel_gdf = pixel_gdf.to_crs(26915)"
   ]
  },
  {
   "cell_type": "markdown",
   "metadata": {
    "id": "Wr22_bcnusjP"
   },
   "source": [
    "## Read in mesh as gdf"
   ]
  },
  {
   "cell_type": "code",
   "execution_count": null,
   "metadata": {
    "id": "s2E6PcRpq3fW"
   },
   "outputs": [],
   "source": [
    "# read in numele from mesh.mesh\n",
    "with open('mesh.mesh') as f:\n",
    "  first_line = f.readline()\n",
    "  f.close()\n",
    "\n",
    "# obtain value for numele from string\n",
    "npoly = [int(i) for i in first_line.split() if i.isdigit()]\n",
    "\n",
    "# create df that excludes geometry data appendage\n",
    "df = pd.read_csv('mesh.mesh', names=['Index','X','Y','Zmin','Zmax','Area','nFaces'], delimiter=\"\\t\", header=1, nrows=npoly[0] )\n",
    "\n",
    "# create mesh_gdf\n",
    "mesh_gdf = geop.GeoDataFrame(\n",
    "    df, geometry=geop.points_from_xy(df.X, df.Y), crs=26915)"
   ]
  },
  {
   "cell_type": "markdown",
   "metadata": {
    "id": "McNIi9_j6axb"
   },
   "source": [
    "## Read in river file as gdf"
   ]
  },
  {
   "cell_type": "code",
   "execution_count": null,
   "metadata": {
    "id": "sC9J6ZOA6gF-"
   },
   "outputs": [],
   "source": [
    "# read in numele from exampl.riv\n",
    "with open('exampl.riv') as f:\n",
    "  first_line = f.readline()\n",
    "  f.close()\n",
    "\n",
    "# obtain value for numele from string\n",
    "nriv = [int(i) for i in first_line.split() if i.isdigit()]\n",
    "\n",
    "# create df that excludes geometry data appendage\n",
    "names = ['Index',\t'X',\t'Y',\t'ZMIN',\t'ZMAX',\t'LENGTH',\t'DOWN',\t'LEFT',\t'RIGHT',\t'SHAPE',\t'MATRL',\t'BC',\t'RES',\t'XAREA',\t'INACT',\t'LAKE',\t'LRIV']\n",
    "df = pd.read_csv('exampl.riv', names=names, delimiter=\"\\t\", header=1, nrows=nriv[0] )\n",
    "\n",
    "# create riv_gdf\n",
    "riv_gdf = geop.GeoDataFrame(\n",
    "    df, geometry=geop.points_from_xy(df.X, df.Y), crs=26915)"
   ]
  },
  {
   "cell_type": "markdown",
   "metadata": {
    "id": "FCqxagiS-xYm"
   },
   "source": [
    "## Read in attribute file as df"
   ]
  },
  {
   "cell_type": "code",
   "execution_count": null,
   "metadata": {
    "id": "98chduQM0aLg"
   },
   "outputs": [],
   "source": [
    "# define nico's function for reading in attribute file\n",
    "def read_attfile(path):\n",
    "  f = open(path,'r')\n",
    "  lines = f.readlines()\n",
    "  f.close()\n",
    "  z = [i.split()[:8] for i in lines[1:]]\n",
    "  df = pd.DataFrame(z, columns=lines[0].split(' ')[:8])\n",
    "  df = df.astype(int)\n",
    "  return df\n",
    "\n",
    "att_df = read_attfile('example.att')"
   ]
  },
  {
   "cell_type": "markdown",
   "metadata": {
    "id": "H0m_1v-UC2gr"
   },
   "source": [
    "## Correct meteo assignment for each polygon in attribute file"
   ]
  },
  {
   "cell_type": "code",
   "execution_count": null,
   "metadata": {
    "colab": {
     "base_uri": "https://localhost:8080/",
     "height": 51
    },
    "executionInfo": {
     "elapsed": 227141,
     "status": "ok",
     "timestamp": 1629392181570,
     "user": {
      "displayName": "Sam Landsteiner",
      "photoUrl": "",
      "userId": "06209305298175359431"
     },
     "user_tz": 300
    },
    "id": "izhjKDeqDBMH",
    "outputId": "3ab8d1d1-7029-4aa1-ada4-b1fc830d913a"
   },
   "outputs": [],
   "source": [
    "def get_nearest_values(row, other_gdf, point_column='geometry', value_column=\"geometry\"):\n",
    "    \"\"\"Find the nearest point and return the corresponding value from specified value column.\"\"\"\n",
    "\n",
    "    # Create an union of the other GeoDataFrame's geometries:\n",
    "    other_points = other_gdf[\"geometry\"].unary_union\n",
    "\n",
    "    # Find the nearest points\n",
    "    nearest_geoms = shply.ops.nearest_points(row[point_column], other_points)\n",
    "\n",
    "    # Get corresponding values from the other df\n",
    "    nearest_data = other_gdf.loc[other_gdf[\"geometry\"] == nearest_geoms[1]]\n",
    "    nearest_value = nearest_data[value_column].to_numpy()[0]\n",
    "\n",
    "    return nearest_value\n",
    "\n",
    "# append mesh_gdf to include meteo value for each polygon\n",
    "mesh_gdf[\"nearest_idx\"] = mesh_gdf.apply(get_nearest_values, other_gdf=pixel_gdf, value_column=\"ID\", axis=1)\n",
    "\n",
    "# check min/max pixel id used\n",
    "max_idx = max(mesh_gdf[\"nearest_idx\"])\n",
    "display(max_idx)\n",
    "min_idx = min(mesh_gdf[\"nearest_idx\"])\n",
    "display(min_idx)\n",
    "\n",
    "#replace the meteo value in attr with pixel value from mesh\n",
    "att_df[\"METEO\"] = mesh_gdf[\"nearest_idx\"]"
   ]
  },
  {
   "cell_type": "markdown",
   "metadata": {
    "id": "Vl44I2tx-QeE"
   },
   "source": [
    "## Correct close_seg assignment for each polygon in attribute file"
   ]
  },
  {
   "cell_type": "code",
   "execution_count": null,
   "metadata": {
    "colab": {
     "base_uri": "https://localhost:8080/",
     "height": 51
    },
    "executionInfo": {
     "elapsed": 1896986,
     "status": "ok",
     "timestamp": 1629394078555,
     "user": {
      "displayName": "Sam Landsteiner",
      "photoUrl": "",
      "userId": "06209305298175359431"
     },
     "user_tz": 300
    },
    "id": "lGuwBrlWxz68",
    "outputId": "8887d18e-9d8f-42c3-e695-5e824be50938"
   },
   "outputs": [],
   "source": [
    "# append mesh_gdf to include close_seg value for each polygon\n",
    "mesh_gdf[\"close_seg\"] = mesh_gdf.apply(get_nearest_values, other_gdf=riv_gdf, value_column=\"Index\", axis=1)\n",
    "\n",
    "# check min/max close_seg used\n",
    "max_seg = max(mesh_gdf[\"close_seg\"])\n",
    "display(max_seg)\n",
    "min_seg = min(mesh_gdf[\"close_seg\"])\n",
    "display(min_seg)\n",
    "\n",
    "#replace the meteo value in attr with pixel value from mesh\n",
    "att_df[\"CLOSE_SEG\"] = mesh_gdf[\"close_seg\"]"
   ]
  },
  {
   "cell_type": "code",
   "execution_count": null,
   "metadata": {
    "id": "U1VWDI_Thtlk"
   },
   "outputs": [],
   "source": [
    "#replace the meteo value in attr with pixel value from mesh\n",
    "att_df[\"CLOSE_SEG\"] = mesh_gdf[\"close_seg\"]"
   ]
  },
  {
   "cell_type": "markdown",
   "metadata": {
    "id": "Uhvck7qjMb6w"
   },
   "source": [
    "## Write updated attribute file"
   ]
  },
  {
   "cell_type": "code",
   "execution_count": null,
   "metadata": {
    "id": "1d-xnz1okvFa"
   },
   "outputs": [],
   "source": [
    "npoly=npoly[0]"
   ]
  },
  {
   "cell_type": "code",
   "execution_count": null,
   "metadata": {
    "id": "eG0zxjR9MEub"
   },
   "outputs": [],
   "source": [
    "def write_att(mesh, old_att, path, npoly):\n",
    "    f = open(path, 'w')\n",
    "    f.write('INDEX SOIL LC METEO LAI SS LAKE CLOSE_SEG BCns\\n')\n",
    "    for i in range(npoly):\n",
    "        poly = mesh.loc[i,'Index']\n",
    "        nfaces = mesh.loc[i,'nFaces']\n",
    "        #soil = old_att.loc[i,'SOIL']\n",
    "        #land = old_att.loc[i,'LC']\n",
    "        meteo = old_att.loc[i,'METEO']\n",
    "        close_seg = old_att.loc[i,'CLOSE_SEG']\n",
    "        #f.write('%d %d %d %d 1 0 0 %d ' % (poly, soil, land, meteo, close_seg))\n",
    "        f.write('%d 1 12 %d 1 0 0 %d ' % (poly, meteo, close_seg))\n",
    "        for z in range(nfaces):\n",
    "            f.write('0 ')\n",
    "        f.write('\\n')\n",
    "    f.close()\n",
    "\n",
    "write_att(mesh=mesh_gdf, old_att=att_df, path='/content/drive/MyDrive/GHOST/Outputs/revised.att', npoly=npoly)"
   ]
  },
  {
   "cell_type": "code",
   "execution_count": null,
   "metadata": {
    "id": "sYDds4KwgbQw"
   },
   "outputs": [],
   "source": []
  },
  {
   "cell_type": "code",
   "execution_count": null,
   "metadata": {
    "id": "flhSIabNpyQ2"
   },
   "outputs": [],
   "source": []
  },
  {
   "cell_type": "code",
   "execution_count": null,
   "metadata": {
    "colab": {
     "base_uri": "https://localhost:8080/",
     "height": 294
    },
    "executionInfo": {
     "elapsed": 275,
     "status": "ok",
     "timestamp": 1629919324314,
     "user": {
      "displayName": "Nicolás Velásquez",
      "photoUrl": "https://lh3.googleusercontent.com/a-/AOh14Gj_p27Ww8CzJCwMccm7KvzOMrLqhxfXelzHuWR1GA=s64",
      "userId": "15649486147728645342"
     },
     "user_tz": 300
    },
    "id": "T-1x2gs6wvgd",
    "outputId": "4a322102-ee7d-4475-c564-941dd173fa0e"
   },
   "outputs": [],
   "source": [
    "cu.Plot_basinClean(cu.structure[0])"
   ]
  },
  {
   "cell_type": "code",
   "execution_count": null,
   "metadata": {
    "id": "oYo5-YFEwyXk"
   },
   "outputs": [],
   "source": []
  }
 ],
 "metadata": {
  "colab": {
   "provenance": []
  },
  "kernelspec": {
   "display_name": "Python 3 (ipykernel)",
   "language": "python",
   "name": "python3"
  },
  "language_info": {
   "codemirror_mode": {
    "name": "ipython",
    "version": 3
   },
   "file_extension": ".py",
   "mimetype": "text/x-python",
   "name": "python",
   "nbconvert_exporter": "python",
   "pygments_lexer": "ipython3",
   "version": "3.11.8"
  },
  "toc": {
   "base_numbering": 1,
   "nav_menu": {},
   "number_sections": true,
   "sideBar": true,
   "skip_h1_title": false,
   "title_cell": "Table of Contents",
   "title_sidebar": "Contents",
   "toc_cell": false,
   "toc_position": {},
   "toc_section_display": true,
   "toc_window_display": false
  }
 },
 "nbformat": 4,
 "nbformat_minor": 1
}
